{
 "cells": [
  {
   "cell_type": "code",
   "execution_count": null,
   "id": "f29d59eb-1355-4eda-8ee3-e7f7ddbad35e",
   "metadata": {},
   "outputs": [
    {
     "name": "stdout",
     "output_type": "stream",
     "text": [
      "Welcome to the Advanced Number Guessing Game!\n",
      "Guess a number between 1 and 100.\n"
     ]
    },
    {
     "name": "stdin",
     "output_type": "stream",
     "text": [
      "Enter your guess:  17\n"
     ]
    },
    {
     "name": "stdout",
     "output_type": "stream",
     "text": [
      "You're almost there\n"
     ]
    },
    {
     "name": "stdin",
     "output_type": "stream",
     "text": [
      "Enter your guess:  13\n"
     ]
    },
    {
     "name": "stdout",
     "output_type": "stream",
     "text": [
      "You're too close\n"
     ]
    },
    {
     "name": "stdin",
     "output_type": "stream",
     "text": [
      "Enter your guess:  10\n"
     ]
    },
    {
     "name": "stdout",
     "output_type": "stream",
     "text": [
      "You're too close\n"
     ]
    },
    {
     "name": "stdin",
     "output_type": "stream",
     "text": [
      "Enter your guess:  20\n"
     ]
    },
    {
     "name": "stdout",
     "output_type": "stream",
     "text": [
      "You're almost there\n"
     ]
    },
    {
     "name": "stdin",
     "output_type": "stream",
     "text": [
      "Enter your guess:  23\n"
     ]
    },
    {
     "name": "stdout",
     "output_type": "stream",
     "text": [
      "You're almost there\n"
     ]
    },
    {
     "name": "stdin",
     "output_type": "stream",
     "text": [
      "Enter your guess:  25\n"
     ]
    },
    {
     "name": "stdout",
     "output_type": "stream",
     "text": [
      "You're almost there\n"
     ]
    }
   ],
   "source": [
    "import random\n",
    "\n",
    "def number_guessing_game():\n",
    "    number_to_guess = random.randint(1, 100)\n",
    "    attempts = 0\n",
    "    score = 100\n",
    "\n",
    "    print(\"Welcome to the Advanced Number Guessing Game!\")\n",
    "    print(\"Guess a number between 1 and 100.\")\n",
    "\n",
    "    while True:\n",
    "        guess = int(input(\"Enter your guess: \"))\n",
    "        attempts += 1\n",
    "        score -= 10\n",
    "\n",
    "        if guess == number_to_guess:\n",
    "            print(f\"Congratulations! You found the number in {attempts} attempts.\")\n",
    "            print(f\"Your score is {score}.\")\n",
    "            break\n",
    "        elif abs(guess - number_to_guess) <= 10:\n",
    "            print(\"You're almost there\")\n",
    "        elif abs(guess - number_to_guess) <= 20:\n",
    "            print(\"You're too close\")\n",
    "        elif guess < number_to_guess:\n",
    "            print(\"Guess higher.\")\n",
    "        else:\n",
    "            print(\"Guess lower.\")\n",
    "\n",
    "        if attempts == 10:\n",
    "            print(f\"Game over! The number was {number_to_guess}.\")\n",
    "            print(f\"Your score is {score}.\")\n",
    "            break\n",
    "\n",
    "def main():\n",
    "    play_again = \"y\"\n",
    "    while play_again.lower() == \"y\":\n",
    "        number_guessing_game()\n",
    "        play_again = input(\"Play again? (y/n): \")\n",
    "\n",
    "if __name__ == \"__main__\":\n",
    "    main()\n"
   ]
  },
  {
   "cell_type": "code",
   "execution_count": null,
   "id": "92529acf-eb4a-4ebc-a4c7-5d4ca8d0945f",
   "metadata": {},
   "outputs": [],
   "source": []
  }
 ],
 "metadata": {
  "kernelspec": {
   "display_name": "Python 3 (ipykernel)",
   "language": "python",
   "name": "python3"
  },
  "language_info": {
   "codemirror_mode": {
    "name": "ipython",
    "version": 3
   },
   "file_extension": ".py",
   "mimetype": "text/x-python",
   "name": "python",
   "nbconvert_exporter": "python",
   "pygments_lexer": "ipython3",
   "version": "3.12.4"
  }
 },
 "nbformat": 4,
 "nbformat_minor": 5
}
